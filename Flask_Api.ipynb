{
 "cells": [
  {
   "cell_type": "markdown",
   "id": "ad98f02f",
   "metadata": {},
   "source": [
    "### Creating Flask API"
   ]
  },
  {
   "cell_type": "code",
   "execution_count": 1,
   "id": "b503aab9",
   "metadata": {},
   "outputs": [],
   "source": [
    "import numpy as np\n",
    "from flask import Flask, request, jsonify, render_template\n",
    "import pickle"
   ]
  },
  {
   "cell_type": "code",
   "execution_count": 7,
   "id": "f9eb1402",
   "metadata": {},
   "outputs": [],
   "source": [
    "app = Flask(__name__)\n",
    "model = pickle.load(open('Final_XGB_Model.pkl', 'rb'))"
   ]
  },
  {
   "cell_type": "code",
   "execution_count": 9,
   "id": "7662ce0e",
   "metadata": {},
   "outputs": [
    {
     "name": "stdout",
     "output_type": "stream",
     "text": [
      "XGBRegressor(base_score=0.5, booster='gbtree', colsample_bylevel=1,\n",
      "             colsample_bynode=1, colsample_bytree=1, enable_categorical=False,\n",
      "             gamma=0, gpu_id=-1, importance_type=None,\n",
      "             interaction_constraints='', learning_rate=0.1, max_delta_step=0,\n",
      "             max_depth=2, min_child_weight=1, missing=nan,\n",
      "             monotone_constraints='()', n_estimators=1000, n_jobs=16,\n",
      "             num_parallel_tree=1, objective='reg:linear', predictor='auto',\n",
      "             random_state=0, reg_alpha=0, reg_lambda=1, scale_pos_weight=1,\n",
      "             subsample=1, tree_method='exact', validate_parameters=1,\n",
      "             verbosity=None)\n"
     ]
    }
   ],
   "source": [
    "print(model)"
   ]
  },
  {
   "cell_type": "code",
   "execution_count": null,
   "id": "9c4a278e",
   "metadata": {},
   "outputs": [],
   "source": [
    "\n",
    "@app.route('/')\n",
    "def home():\n",
    "    return render_template('index.html')\n",
    "\n",
    "@app.route('/predict',methods=['POST'])\n",
    "def predict():\n",
    "    '''\n",
    "    For rendering results on HTML GUI\n",
    "    '''\n",
    "    # int_features = [int(x) for x in request.form.values()]\n",
    "    # final_features = [np.array(int_features)]\n",
    "    # prediction = model.predict(final_features)\n",
    "\n",
    "\n",
    "    int_features = [float(x) for x in request.form.values()]\n",
    "    final_features = [np.array(int_features)]\n",
    "    print(final_features)\n",
    "    prediction = model.predict(final_features)\n",
    "    print(prediction)\n",
    "    output = round(prediction[0], 2)\n",
    "\n",
    "    return render_template('index.html', prediction_text='Prediction $ {}'.format(output))\n",
    "\n",
    "@app.route('/predict_api',methods=['POST'])\n",
    "def predict_api():\n",
    "    '''\n",
    "    For direct API calls trought request\n",
    "    '''\n",
    "    data = request.get_json(force=True)\n",
    "    prediction = model.predict([np.array(list(data.values()))])\n",
    "\n",
    "    output = prediction[0]\n",
    "    return jsonify(output)\n",
    "\n",
    "if __name__ == \"__main__\":\n",
    "    app.run(debug=True)"
   ]
  }
 ],
 "metadata": {
  "kernelspec": {
   "display_name": "Python 3.9.12 ('Venv_Ford': venv)",
   "language": "python",
   "name": "python3"
  },
  "language_info": {
   "codemirror_mode": {
    "name": "ipython",
    "version": 3
   },
   "file_extension": ".py",
   "mimetype": "text/x-python",
   "name": "python",
   "nbconvert_exporter": "python",
   "pygments_lexer": "ipython3",
   "version": "3.9.12"
  },
  "vscode": {
   "interpreter": {
    "hash": "e4906bae714c160c663f86c86b581193dbf4e1093f37e5e20c893d0a27d11aa2"
   }
  }
 },
 "nbformat": 4,
 "nbformat_minor": 5
}
